{
 "cells": [
  {
   "cell_type": "code",
   "execution_count": null,
   "id": "bd1af203",
   "metadata": {
    "vscode": {
     "languageId": "plaintext"
    }
   },
   "outputs": [],
   "source": [
    "from sklearn.model_selection import train_test_split\n",
    "from sklearn.preprocessing import LabelEncoder, StandardScaler\n",
    "from sklearn.ensemble import RandomForestClassifier, RandomForestRegressor\n",
    "from sklearn.pipeline import Pipeline\n",
    "from sklearn.metrics import accuracy_score, mean_squared_error\n",
    "import pandas as pd\n",
    "import numpy as np\n",
    "import joblib"
   ]
  },
  {
   "cell_type": "code",
   "execution_count": null,
   "id": "0d0910ac",
   "metadata": {
    "vscode": {
     "languageId": "plaintext"
    }
   },
   "outputs": [],
   "source": [
    "# Load dataset\n",
    "df = pd.read_csv(\"/data/genomic_data_500.csv\")\n"
   ]
  },
  {
   "cell_type": "code",
   "execution_count": null,
   "id": "0470bd3b",
   "metadata": {
    "vscode": {
     "languageId": "plaintext"
    }
   },
   "outputs": [],
   "source": [
    "gene_enc = LabelEncoder()\n",
    "geno_enc = LabelEncoder()\n",
    "id_enc = LabelEncoder()\n",
    "disease_enc = LabelEncoder()"
   ]
  },
  {
   "cell_type": "code",
   "execution_count": null,
   "id": "7ce518a6",
   "metadata": {
    "vscode": {
     "languageId": "plaintext"
    }
   },
   "outputs": [],
   "source": [
    "df[\"GENE_ENC\"] = gene_enc.fit_transform(df[\"GENE\"])\n",
    "df[\"GENOTYPE_ENC\"] = geno_enc.fit_transform(df[\"GENOTYPE\"])\n",
    "df[\"ID_ENC\"] = id_enc.fit_transform(df[\"ID\"])\n",
    "df[\"DISEASE_ENC\"] = disease_enc.fit_transform(df[\"DISEASE\"])\n"
   ]
  },
  {
   "cell_type": "code",
   "execution_count": null,
   "id": "f4024f1a",
   "metadata": {
    "vscode": {
     "languageId": "plaintext"
    }
   },
   "outputs": [],
   "source": [
    "X = df[[\"CHROM\", \"POS\", \"GENE_ENC\", \"GENOTYPE_ENC\", \"ID_ENC\"]]\n",
    "y_class = df[\"DISEASE_ENC\"]\n",
    "y_reg = df[\"RISK_SCORE\"]\n"
   ]
  },
  {
   "cell_type": "code",
   "execution_count": null,
   "id": "76c6990c",
   "metadata": {
    "vscode": {
     "languageId": "plaintext"
    }
   },
   "outputs": [],
   "source": [
    "X_train, X_test, y_train_cls, y_test_cls = train_test_split(\n",
    "    X, y_class, test_size=0.2, random_state=42, stratify=y_class\n",
    ")\n",
    "_, _, y_train_reg, y_test_reg = train_test_split(X, y_reg, test_size=0.2, random_state=42)\n",
    "\n",
    "# Classifier pipeline (scaling + tuned forest)\n",
    "clf_pipeline = Pipeline([\n",
    "    (\"scaler\", StandardScaler()),\n",
    "    (\"model\", RandomForestClassifier(\n",
    "        n_estimators=300,\n",
    "        max_depth=12,\n",
    "        min_samples_split=4,\n",
    "        random_state=42,\n",
    "        class_weight=\"balanced\"\n",
    "    ))\n",
    "])\n"
   ]
  },
  {
   "cell_type": "code",
   "execution_count": null,
   "id": "89fa4fea",
   "metadata": {
    "vscode": {
     "languageId": "plaintext"
    }
   },
   "outputs": [],
   "source": [
    "# Regressor pipeline\n",
    "reg_pipeline = Pipeline([\n",
    "    (\"scaler\", StandardScaler()),\n",
    "    (\"model\", RandomForestRegressor(\n",
    "        n_estimators=300,\n",
    "        max_depth=12,\n",
    "        random_state=42\n",
    "    ))\n",
    "])\n"
   ]
  },
  {
   "cell_type": "code",
   "execution_count": null,
   "id": "2950ff4d",
   "metadata": {
    "vscode": {
     "languageId": "plaintext"
    }
   },
   "outputs": [],
   "source": [
    "# Train models\n",
    "clf_pipeline.fit(X_train, y_train_cls)\n",
    "reg_pipeline.fit(X_train, y_train_reg)\n",
    "\n",
    "# Evaluate\n",
    "y_pred_cls = clf_pipeline.predict(X_test)\n",
    "y_pred_reg = reg_pipeline.predict(X_test)\n",
    "\n",
    "cls_acc = accuracy_score(y_test_cls, y_pred_cls)\n",
    "reg_rmse = np.sqrt(mean_squared_error(y_test_reg, y_pred_reg))\n",
    "\n",
    "print(f\"🎯 Classification Accuracy: {cls_acc:.3f}\")\n",
    "print(f\"📈 Regression RMSE: {reg_rmse:.3f}\")\n"
   ]
  },
  {
   "cell_type": "code",
   "execution_count": null,
   "id": "7952f0ba",
   "metadata": {
    "vscode": {
     "languageId": "plaintext"
    }
   },
   "outputs": [],
   "source": [
    "# Save models and encoders\n",
    "joblib.dump(clf_pipeline, \"disease_classifier.pkl\")\n",
    "joblib.dump(reg_pipeline, \"risk_regressor.pkl\")\n",
    "joblib.dump({\n",
    "    \"gene_enc\": gene_enc,\n",
    "    \"geno_enc\": geno_enc,\n",
    "    \"id_enc\": id_enc,\n",
    "    \"disease_enc\": disease_enc\n",
    "}, \"encoders.pkl\")\n",
    "\n",
    "print(\"✅ Models and encoders saved successfully!\")\n"
   ]
  }
 ],
 "metadata": {
  "language_info": {
   "name": "python"
  }
 },
 "nbformat": 4,
 "nbformat_minor": 5
}
